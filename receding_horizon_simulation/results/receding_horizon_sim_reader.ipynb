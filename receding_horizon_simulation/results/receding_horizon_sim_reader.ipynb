{
 "cells": [
  {
   "cell_type": "code",
   "execution_count": 1,
   "metadata": {},
   "outputs": [],
   "source": [
    "import datetime as dt\n",
    "import pandas as pd\n",
    "\n",
    "import glob\n",
    "import os.path\n",
    "import numpy as np\n",
    "import matplotlib.pyplot as plt\n",
    "from mpl_toolkits.mplot3d.axes3d import Axes3D\n",
    "from matplotlib import rcParams  \n",
    "import matplotlib.mlab as mlab\n",
    "\n",
    "\n",
    "import os\n",
    "import scipy.io as sio\n",
    "import h5py\n",
    "\n",
    "%matplotlib inline"
   ]
  },
  {
   "cell_type": "code",
   "execution_count": 2,
   "metadata": {
    "scrolled": true
   },
   "outputs": [],
   "source": [
    "#PAMoD sims\n",
    "SimResults = pd.DataFrame(columns=['Service time','Wait time','Energy Demand','Tot. expenditure',\n",
    "                                   'Gen. cost','DFW price','TSO expenditure','Sim. type'])\n",
    "\n",
    "#Unzip all files that end in csv.zip\n",
    "#Simfilenamepattern =  'DFWSim_*_10h_7200horizon_*Apr*_v5_infcycles_5min.mat'\n",
    "Simfilenamepattern =  'DFWSim_*.mat'\n",
    "Simfilenames = glob.glob(Simfilenamepattern)\n",
    "for Simfilename in Simfilenames:\n",
    "    with h5py.File(Simfilename, 'r') as SimRes:\n",
    "        BaseMVA = np.array(SimRes['BaseMVA'])\n",
    "        try:\n",
    "            allWaitTimes = np.array(SimRes['Stats']['allWaitTimes']) #mean(Stats.allWaitTimes)\n",
    "            avgWaitTime = np.mean(allWaitTimes)\n",
    "            allTravelTimes = np.array(SimRes['Stats']['allServiceTimes'])\n",
    "            avgTravelTime = np.mean(allTravelTimes)\n",
    "        except:\n",
    "            allWaitTimes = np.NaN\n",
    "            avgWaitTime = np.NaN\n",
    "            allTravelTimes = np.NaN\n",
    "            avgTravelTime = np.NaN\n",
    "        \n",
    "        allPNViolationBool = np.sum(np.array(SimRes['Stats']['PowerNetworkViolationBool']))\n",
    "        # These are a mess -> we get them from MATLAB\n",
    "        #allPNViolationUP = np.sum(np.array(SimRes['Stats']['PowerNetworkViolationQUP']))\n",
    "        #allPNViolationDN = np.sum(np.array(SimRes['Stats']['PowerNetworkViolationQDN']))\n",
    "        #allPNViolation = allPNViolationUP+allPNViolationDN\n",
    "        \n",
    "        ControllerMode = u''.join(unichr(c) for c in SimRes['settings']['ControllerMode'])\n",
    "        Energy_demand_tot = np.array(SimRes['PowerStats']['Energy_demand_tot'])[0][0]\n",
    "        Gen_cost_tot = np.array(SimRes['PowerStats']['Gen_cost_tot'])[0][0]\n",
    "        Ext_expense_tot = np.array(SimRes['PowerStats']['Ext_expense_tot'])[0][0]\n",
    "        TSO_expense_tot = np.array(SimRes['PowerStats']['TSO_expense_tot'])[0][0]\n",
    "        #print np.array(SimRes['PowerStats']['DFW_expense_tot'])[0][0]\n",
    "        \n",
    "        #We don't have the unit cost in DFW, so we compute it\n",
    "        #sum((Ext_loads(isbusinDallas,:).*Stats.PowerPricesLog(isbusinDallas,:)))./sum(Ext_loads(isbusinDallas,:))\n",
    "        Ext_loads = np.array(SimRes['PowerStats']['Ext_loads_log'])\n",
    "        isbusinDallas = np.array(SimRes['isbusinDallas'])\n",
    "        isbusinDallasB = isbusinDallas>0\n",
    "        isbusinDallasB = isbusinDallasB[:,0]\n",
    "        PowerPricesLog = np.array(SimRes['Stats']['PowerPricesLog'])\n",
    "        DFW_unit_expense_tot = np.sum(Ext_loads[:,isbusinDallasB]*PowerPricesLog[:,isbusinDallasB])/np.sum(Ext_loads[:,isbusinDallasB])\n",
    "#        print DFW_unit_expense_tot\n",
    "        _record = {'Service time': avgTravelTime+avgWaitTime,\n",
    "                   'Wait time': avgWaitTime,\n",
    "                   'Energy Demand': Energy_demand_tot,\n",
    "                   'Tot. expenditure': Ext_expense_tot+TSO_expense_tot,\n",
    "                   'Gen. cost': Gen_cost_tot,\n",
    "                   'DFW price': DFW_unit_expense_tot,\n",
    "                   'TSO expenditure': TSO_expense_tot, \n",
    "                   'Sim. type': ControllerMode,\n",
    "                   'PN violation times': allPNViolationBool,\n",
    "                   #'PN violation MWh': allPNViolation\n",
    "                  }\n",
    "        SimResults = SimResults.append(_record,ignore_index=True)"
   ]
  },
  {
   "cell_type": "code",
   "execution_count": 3,
   "metadata": {},
   "outputs": [
    {
     "data": {
      "text/html": [
       "<div>\n",
       "<style scoped>\n",
       "    .dataframe tbody tr th:only-of-type {\n",
       "        vertical-align: middle;\n",
       "    }\n",
       "\n",
       "    .dataframe tbody tr th {\n",
       "        vertical-align: top;\n",
       "    }\n",
       "\n",
       "    .dataframe thead th {\n",
       "        text-align: right;\n",
       "    }\n",
       "</style>\n",
       "<table border=\"1\" class=\"dataframe\">\n",
       "  <thead>\n",
       "    <tr style=\"text-align: right;\">\n",
       "      <th></th>\n",
       "      <th>Service time</th>\n",
       "      <th>Wait time</th>\n",
       "      <th>Energy Demand</th>\n",
       "      <th>Tot. expenditure</th>\n",
       "      <th>Gen. cost</th>\n",
       "      <th>DFW price</th>\n",
       "      <th>TSO expenditure</th>\n",
       "      <th>PN violation times</th>\n",
       "    </tr>\n",
       "    <tr>\n",
       "      <th>Sim. type</th>\n",
       "      <th></th>\n",
       "      <th></th>\n",
       "      <th></th>\n",
       "      <th></th>\n",
       "      <th></th>\n",
       "      <th></th>\n",
       "      <th></th>\n",
       "      <th></th>\n",
       "    </tr>\n",
       "  </thead>\n",
       "  <tbody>\n",
       "    <tr>\n",
       "      <th>GREEDY</th>\n",
       "      <td>5670.547065</td>\n",
       "      <td>1120.309952</td>\n",
       "      <td>5080.094914</td>\n",
       "      <td>1.234415e+13</td>\n",
       "      <td>1.224719e+07</td>\n",
       "      <td>4.595442e+09</td>\n",
       "      <td>4.786741e+12</td>\n",
       "      <td>81.571429</td>\n",
       "    </tr>\n",
       "    <tr>\n",
       "      <th>PAMoD</th>\n",
       "      <td>5689.058483</td>\n",
       "      <td>1196.471486</td>\n",
       "      <td>5077.297584</td>\n",
       "      <td>1.530489e+07</td>\n",
       "      <td>1.220922e+07</td>\n",
       "      <td>3.015353e+03</td>\n",
       "      <td>2.346730e+05</td>\n",
       "      <td>0.000000</td>\n",
       "    </tr>\n",
       "    <tr>\n",
       "      <th>POWER</th>\n",
       "      <td>NaN</td>\n",
       "      <td>NaN</td>\n",
       "      <td>5000.014827</td>\n",
       "      <td>1.506736e+07</td>\n",
       "      <td>1.197556e+07</td>\n",
       "      <td>3.013636e+03</td>\n",
       "      <td>0.000000e+00</td>\n",
       "      <td>0.000000</td>\n",
       "    </tr>\n",
       "  </tbody>\n",
       "</table>\n",
       "</div>"
      ],
      "text/plain": [
       "           Service time    Wait time  Energy Demand  Tot. expenditure  \\\n",
       "Sim. type                                                               \n",
       "GREEDY      5670.547065  1120.309952    5080.094914      1.234415e+13   \n",
       "PAMoD       5689.058483  1196.471486    5077.297584      1.530489e+07   \n",
       "POWER               NaN          NaN    5000.014827      1.506736e+07   \n",
       "\n",
       "              Gen. cost     DFW price  TSO expenditure  PN violation times  \n",
       "Sim. type                                                                   \n",
       "GREEDY     1.224719e+07  4.595442e+09     4.786741e+12           81.571429  \n",
       "PAMoD      1.220922e+07  3.015353e+03     2.346730e+05            0.000000  \n",
       "POWER      1.197556e+07  3.013636e+03     0.000000e+00            0.000000  "
      ]
     },
     "execution_count": 3,
     "metadata": {},
     "output_type": "execute_result"
    }
   ],
   "source": [
    "SimResults.groupby('Sim. type').mean()\n",
    "#SimResults.groupby('Sim. type').std()"
   ]
  },
  {
   "cell_type": "markdown",
   "metadata": {},
   "source": [
    "# Plot the results distribution"
   ]
  },
  {
   "cell_type": "code",
   "execution_count": 4,
   "metadata": {},
   "outputs": [],
   "source": [
    "\n",
    "\n",
    "\n",
    "# We need this to ensure output is not truncated\n",
    "pd.set_option('display.max_colwidth', -1)"
   ]
  },
  {
   "cell_type": "code",
   "execution_count": 5,
   "metadata": {},
   "outputs": [],
   "source": [
    "PAMoD_results = SimResults[SimResults['Sim. type'] == 'PAMoD']\n",
    "#PAMoD_results.convert_objects(convert_numeric=True)\n",
    "\n",
    "Greedy_results = SimResults[SimResults['Sim. type'] == 'GREEDY']\n",
    "#Greedy_results.convert_objects(convert_numeric=True)"
   ]
  },
  {
   "cell_type": "code",
   "execution_count": 6,
   "metadata": {},
   "outputs": [],
   "source": [
    "mycolumns = SimResults.columns\n",
    "mycolumns = mycolumns[mycolumns != u'Sim. type']"
   ]
  },
  {
   "cell_type": "code",
   "execution_count": 7,
   "metadata": {},
   "outputs": [],
   "source": [
    "mycolumns = mycolumns[mycolumns != u'Sim. type']"
   ]
  },
  {
   "cell_type": "code",
   "execution_count": 8,
   "metadata": {},
   "outputs": [
    {
     "name": "stderr",
     "output_type": "stream",
     "text": [
      "/home/frossi/.local/lib/python2.7/site-packages/matplotlib/axes/_axes.py:6571: UserWarning: The 'normed' kwarg is deprecated, and has been replaced by the 'density' kwarg.\n",
      "  warnings.warn(\"The 'normed' kwarg is deprecated, and has been \"\n",
      "/home/frossi/.local/lib/python2.7/site-packages/ipykernel_launcher.py:19: MatplotlibDeprecationWarning: scipy.stats.norm.pdf\n",
      "/home/frossi/.local/lib/python2.7/site-packages/ipykernel_launcher.py:25: MatplotlibDeprecationWarning: scipy.stats.norm.pdf\n",
      "/home/frossi/.local/lib/python2.7/site-packages/matplotlib/mlab.py:1541: RuntimeWarning: divide by zero encountered in double_scalars\n",
      "  return 1./(np.sqrt(2*np.pi)*sigma)*np.exp(-0.5 * (1./sigma*(x - mu))**2)\n",
      "/home/frossi/.local/lib/python2.7/site-packages/matplotlib/mlab.py:1541: RuntimeWarning: invalid value encountered in multiply\n",
      "  return 1./(np.sqrt(2*np.pi)*sigma)*np.exp(-0.5 * (1./sigma*(x - mu))**2)\n"
     ]
    },
    {
     "data": {
      "image/png": "[encoded data removed]",
      "text/plain": [
       "<Figure size 432x288 with 8 Axes>"
      ]
     },
     "metadata": {
      "needs_background": "light"
     },
     "output_type": "display_data"
    }
   ],
   "source": [
    "# the histogram of the data\n",
    "#for column_name in mycolumns:\n",
    "rownum=2\n",
    "colnum=4\n",
    "f, axes = plt.subplots(rownum, colnum)\n",
    "axisct=0\n",
    "rcParams['figure.figsize'] = (16, 8)\n",
    "\n",
    "for column_name in mycolumns:\n",
    "    myaxis = axes[axisct/colnum,axisct%colnum]\n",
    "    mydataP= pd.to_numeric(PAMoD_results[column_name])\n",
    "    mydataG= pd.to_numeric(Greedy_results[column_name])\n",
    "    #plt.plot()\n",
    "    allData = pd.concat([mydataG,mydataP],ignore_index=True)\n",
    "    n, _bins, patches = myaxis.hist(allData, 30, normed=1, facecolor='magenta', alpha=0.0)\n",
    "\n",
    "    n, _bins, patches = myaxis.hist(mydataP, bins = _bins, normed=1, facecolor='green', alpha=0.75)\n",
    "    # add a 'best fit' line\n",
    "    y = mlab.normpdf(_bins,np.mean(mydataP),np.std(mydataP))\n",
    "    l = myaxis.plot(_bins, y, 'g--', linewidth=1)\n",
    "\n",
    "\n",
    "    n, _bins, patches = myaxis.hist(mydataG, bins = _bins, normed=1, facecolor='red', alpha=0.75)\n",
    "    # add a 'best fit' line\n",
    "    y = mlab.normpdf(_bins,np.mean(mydataG),np.std(mydataG))\n",
    "    l = myaxis.plot(_bins, y, 'r--', linewidth=1)\n",
    "\n",
    "    myaxis.set_title(column_name,fontsize=12)\n",
    "    axisct+=1\n",
    "plt.tight_layout()\n",
    "plt.savefig('RTSims_alldata.png',bbox_inches='tight',transparent=False,dpi=300)"
   ]
  },
  {
   "cell_type": "code",
   "execution_count": null,
   "metadata": {},
   "outputs": [],
   "source": []
  }
 ],
 "metadata": {
  "kernelspec": {
   "display_name": "Python 2",
   "language": "python",
   "name": "python2"
  },
  "language_info": {
   "codemirror_mode": {
    "name": "ipython",
    "version": 2
   },
   "file_extension": ".py",
   "mimetype": "text/x-python",
   "name": "python",
   "nbconvert_exporter": "python",
   "pygments_lexer": "ipython2",
   "version": "2.7.12"
  }
 },
 "nbformat": 4,
 "nbformat_minor": 2
}
